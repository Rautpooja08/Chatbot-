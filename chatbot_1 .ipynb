{
 "cells": [
  {
   "cell_type": "code",
   "execution_count": 1,
   "id": "9fe9d255-208f-4aea-ad51-32387fcb2f94",
   "metadata": {},
   "outputs": [
    {
     "name": "stdout",
     "output_type": "stream",
     "text": [
      "\n",
      "    Welcome to Chatbot! Please choose an option:\n",
      "    1.Get a motivational quote\n",
      "    2.Practice a math problem\n",
      "    3.Get a trivia question\n",
      "    4.Exit\n",
      "    \n"
     ]
    },
    {
     "name": "stdin",
     "output_type": "stream",
     "text": [
      "Enter your choice: 4\n"
     ]
    },
    {
     "name": "stdout",
     "output_type": "stream",
     "text": [
      "Goodbye! Thanks For chatting!\n"
     ]
    }
   ],
   "source": [
    "def display_menu():\n",
    "    menu=\"\"\"\n",
    "    Welcome to Chatbot! Please choose an option:\n",
    "    1.Get a motivational quote\n",
    "    2.Practice a math problem\n",
    "    3.Get a trivia question\n",
    "    4.Exit\n",
    "    \"\"\"\n",
    "    print(menu)\n",
    "def get_quotes():\n",
    "    quotes=[\"Believe in yoursel\",\"Your limitation-Its your imagination\",\"Be content in what you have\",\"Right things will come at right time\"]\n",
    "    return random.choice(quotes)\n",
    "\n",
    "def math_problem():\n",
    "    import random\n",
    "    num1=random.randint(1,10)\n",
    "    num2=random.randint(1,10)\n",
    "    answer=num1+num2\n",
    "    print(f'what is {num1}+{num2}?')\n",
    "    user_answer=input(\"Your answer:\")\n",
    "    try:\n",
    "        if int(user_answer) == answer:\n",
    "            print(\"correct! well done!\")\n",
    "        else:\n",
    "            print(f'sorry!incorrect answer, the correct answer was {answer}')\n",
    "    except ValueError:\n",
    "        print(\"Please enter valid number\")\n",
    "\n",
    "def trivia_que():\n",
    "    questions={\"What is the Capital of France?\":\"Paris\",\"What is the largest planet of the earth?\":\"Jupiter\",\n",
    "               \"What is the smallest prime number?\":\"2\",\n",
    "               \"Who wrote the epic Ramayana?\":\"Valmiki\"}\n",
    "    import random\n",
    "    question,answer=random.choice(list(questions.items()))\n",
    "    print(question)\n",
    "    user_answer= input(\"your answer:\")\n",
    "    if user_answer.lower()==answer.lower():\n",
    "        print(\"Fantastic! well done!\")\n",
    "    else:\n",
    "        print(f'Oops! wrong answer,the correct answer is {answer}')\n",
    "\n",
    "def chatbot():\n",
    "    while True:\n",
    "        display_menu()\n",
    "        choice=input(\"Enter your choice:\")\n",
    "        if choice ==\"1\":\n",
    "            print(get_quotes())\n",
    "        elif choice == \"2\":\n",
    "            print(math_problem())\n",
    "        elif choice == \"3\":\n",
    "            print(trivia_que())\n",
    "        elif choice == \"4\":\n",
    "            print(\"Goodbye! Thanks For chatting!\")\n",
    "            break\n",
    "        else:\n",
    "            print(\"Invalid choice, please select between 1-4\")\n",
    "chatbot()"
   ]
  },
  {
   "cell_type": "code",
   "execution_count": null,
   "id": "ac91296b-745b-47a0-b8c7-32a475714436",
   "metadata": {},
   "outputs": [],
   "source": []
  }
 ],
 "metadata": {
  "kernelspec": {
   "display_name": "Python 3 (ipykernel)",
   "language": "python",
   "name": "python3"
  },
  "language_info": {
   "codemirror_mode": {
    "name": "ipython",
    "version": 3
   },
   "file_extension": ".py",
   "mimetype": "text/x-python",
   "name": "python",
   "nbconvert_exporter": "python",
   "pygments_lexer": "ipython3",
   "version": "3.11.7"
  }
 },
 "nbformat": 4,
 "nbformat_minor": 5
}
